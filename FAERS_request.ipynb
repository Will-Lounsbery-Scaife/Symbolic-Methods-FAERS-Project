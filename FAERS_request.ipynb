{
 "cells": [
  {
   "cell_type": "code",
   "execution_count": 25,
   "metadata": {},
   "outputs": [],
   "source": [
    "import pandas as pd\n",
    "from pprint import pprint\n",
    "import matplotlib.pyplot as plt"
   ]
  },
  {
   "cell_type": "code",
   "execution_count": 26,
   "metadata": {},
   "outputs": [],
   "source": [
    "import requests\n",
    "\n",
    "# rate limiting is important to avoid accidental service abuse of the OpenFDA API provider\n",
    "from ratelimit import limits, sleep_and_retry\n",
    "\n",
    "# cache API calls in a sqllite file to reduce the number of requests to openfda server\n",
    "import requests_cache\n",
    "requests_cache.install_cache('openfda_cache')\n",
    "\n",
    "OPENFDA_API = \"https://api.fda.gov/drug/event.json\"\n",
    "\n",
    "@sleep_and_retry\n",
    "@limits(calls=40, period=60)\n",
    "def call_api(params):\n",
    "    \"\"\"\n",
    "    OpenFDA API call. Respects rate limit. Overrides default data limit\n",
    "    Input: dictionary with API parameters {search: '...', count: '...'}\n",
    "    Output: nested dictionary representation of the JSON results section\n",
    "    \n",
    "    OpenFDA API rate limits:\n",
    "         With no API key: 40 requests per minute, per IP address. 1000 requests per day, per IP address.\n",
    "         With an API key: 240 requests per minute, per key. 120000 requests per day, per key.\n",
    "    \"\"\"\n",
    "    if not params:\n",
    "        params = {}\n",
    "    params['limit'] = params.get('limit', 1000)\n",
    "    response = requests.get(OPENFDA_API, params=params)\n",
    "    print(response.url)\n",
    "\n",
    "    if response.status_code != 200:\n",
    "        raise Exception('API response: {}'.format(response.status_code))\n",
    "    return response.json()['results']\n",
    "\n",
    "OPENFDA_METADATA_YAML = \"https://open.fda.gov/fields/drugevent.yaml\"\n",
    "# munch is a yaml parser with javascript-style object access\n",
    "from munch import Munch\n",
    "\n",
    "def api_meta():\n",
    "    \"\"\"\n",
    "    YAML file with field description and other metadata retrieved from the OpenFDA website\n",
    "    Parses YAML file and provides syntactic sugar for accessing nested dictionaries\n",
    "    Example: .patient.properties.patientagegroup.possible_values.value\n",
    "    Note: reserved words, such as count and items still have to be accessed via ['count'], ['items']\n",
    "    \"\"\"\n",
    "    response = requests.get(OPENFDA_METADATA_YAML)\n",
    "    if response.status_code != 200:\n",
    "        raise Exception('Could not retrieve YAML file with drug event API fields')\n",
    "    y = Munch.fromYAML(response.text)\n",
    "    return y['properties']"
   ]
  },
  {
   "cell_type": "code",
   "execution_count": 27,
   "metadata": {},
   "outputs": [
    {
     "data": {
      "text/plain": [
       "dict_keys(['drug', 'patientagegroup', 'patientdeath', 'patientonsetage', 'patientonsetageunit', 'patientsex', 'patientweight', 'reaction', 'summary'])"
      ]
     },
     "execution_count": 27,
     "metadata": {},
     "output_type": "execute_result"
    }
   ],
   "source": [
    "api_meta().patient.properties.keys()"
   ]
  },
  {
   "cell_type": "code",
   "execution_count": 28,
   "metadata": {},
   "outputs": [],
   "source": [
    "# For example, 20100729 is 07/29/2010\"\n",
    "#start_date = input(\"Enter the beginning of your desired date range: \" )\n",
    "#end_date = input(\"Enter the end of your desired date range: \")\n",
    "\n",
    "#country_list = input(\"Enter the countries you would like to limit your search to: \")\n"
   ]
  },
  {
   "cell_type": "code",
   "execution_count": 29,
   "metadata": {},
   "outputs": [
    {
     "name": "stdout",
     "output_type": "stream",
     "text": [
      "receiptdate:[20110601 TO 20110606]\n",
      "https://api.fda.gov/drug/event.json?api_key=Og4jAa0KIhPJkiwaxXVD6VHp3DGqoQf37JFPeRct&limit=5&search=receiptdate%3A%5B20110601+TO+20110606%5D+AND+primarysource.reportercountry%3A%22FRANCE%22+AND+%22FR%22\n"
     ]
    }
   ],
   "source": [
    "#print(start_date, end_date)\n",
    "start_date = '20110601'\n",
    "end_date = '20110606'\n",
    "\n",
    "#api_key = 'rioyXUSAMBQfuxPWqw8Qgf7bR0Bi96eaRNwxb92Q'\n",
    "columbia_api_key = 'Og4jAa0KIhPJkiwaxXVD6VHp3DGqoQf37JFPeRct'\n",
    "\n",
    "\n",
    "test_date_str = 'receiptdate:[' + start_date + ' TO ' +  end_date +']'\n",
    "search_field = test_date_str + ' AND primarysource.reportercountry: \"FRANCE+FR\"'\n",
    "country_search = 'primarysource.reportercountry:\"FRANCE\" AND \"FR\"' \n",
    "\n",
    "#'search': \"receivedate:[20040101 TO 20200101] AND patient.reaction.reactionmeddrapt.exact: {}\".format(\n",
    "\n",
    "\n",
    "print(test_date_str)\n",
    "#print(search_field)\n",
    "\n",
    "\n",
    "test_out = call_api({\n",
    "    'api_key': columbia_api_key,\n",
    "    'limit': 5,\n",
    "    'search': test_date_str + ' AND ' + country_search\n",
    "\n",
    "})\n"
   ]
  },
  {
   "cell_type": "code",
   "execution_count": 105,
   "metadata": {},
   "outputs": [],
   "source": [
    "testDF=pd.DataFrame(test_out)\n",
    "\n",
    "#for item in test_out:\n",
    "#    print(item)\n",
    "\n",
    "\n",
    "#results_obj.write(str(testDF))\n",
    "\n",
    "#call_api returns results, which is a list of dictionaries: [ {...}, {...}, {...} ]\n",
    "\n",
    "x = test_out[0]\n",
    "y = x['patient']['drug'][0]\n",
    "z = y['openfda']\n",
    "rxCuis = z['rxcui']\n",
    "\n",
    "# print all the rxcuis for a given drug for a given patient in a given entry\n",
    "#for drugs in test_out[0]['patient']['drug']:\n",
    "#    print(drugs['openfda']['rxcui'])\n",
    "\n",
    "#print(test_out[0]['patient']['reaction'])\n",
    "\n",
    "\n",
    "write_obj = open('results.txt', 'w')\n",
    "write_obj.close()\n",
    "results_obj = open('results.txt', 'a')\n",
    "#results_obj.write(str(x['patient']['drug']))\n",
    "\n",
    "# for loop to print the rxcuis (if they exist) for each drug in each entry, \n",
    "for entry in test_out:\n",
    "    results_obj.write(str(entry['safetyreportid']) + \"\\n\")\n",
    "    results_obj.write(str(entry['patient']['reaction']) + \"\\n\")\n",
    "    for drug in entry['patient']['drug']:\n",
    "        results_obj.write(str(drug['medicinalproduct']) + \"\\n\")\n",
    "        if 'openfda' in drug:\n",
    "            if 'rxcui' in drug['openfda']:\n",
    "                results_obj.write(str(drug['openfda']['rxcui']) + \"\\n\")\n",
    "            else: results_obj.write(\"no rxcuis\" + \"\\n\")\n",
    "        else: results_obj.write('no openfda'  + \"\\n\")\n",
    "    results_obj.write(\"\\n\\n\")\n",
    "\n"
   ]
  },
  {
   "cell_type": "code",
   "execution_count": null,
   "metadata": {},
   "outputs": [],
   "source": []
  }
 ],
 "metadata": {
  "kernelspec": {
   "display_name": "Python 3.9.12 ('base')",
   "language": "python",
   "name": "python3"
  },
  "language_info": {
   "codemirror_mode": {
    "name": "ipython",
    "version": 3
   },
   "file_extension": ".py",
   "mimetype": "text/x-python",
   "name": "python",
   "nbconvert_exporter": "python",
   "pygments_lexer": "ipython3",
   "version": "3.9.12"
  },
  "orig_nbformat": 4,
  "vscode": {
   "interpreter": {
    "hash": "25bed791a1aed4bb13420da74a485fcfdcafbc9ecdc61a40322d51322f2b5a38"
   }
  }
 },
 "nbformat": 4,
 "nbformat_minor": 2
}
